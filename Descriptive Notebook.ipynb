{
    "cells": [
        {
            "cell_type": "markdown",
            "metadata": {
                "collapsed": true
            },
            "source": "# IBM Data Science Coursera Capstone Project predicting Accident severity"
        },
        {
            "cell_type": "markdown",
            "metadata": {},
            "source": "## Description of the problem:"
        },
        {
            "cell_type": "markdown",
            "metadata": {},
            "source": "More than 38,000 people die every year in crashes on U.S. roadways. The U.S. traffic fatality rate is 12.4 deaths per 100,000 inhabitants. An additional 4.4 million are injured seriously enough to require medical attention. Road crashes are the leading cause of death in the U.S. for people aged 1-54.\n\nRoad accidents are increasing day to day all over the world due to several reasons. These accidents may happen due to either avoidable circumstances or un-avoidable circumstances. \n\n - Avoidable scenarios: Speeding, not wearing safety gear such as helmets or seat belts, breaking traffic rules.\n - Un avoidable scenarios: Bad roads, weather conditions, lighting conditions, traffic conditions.\n \nWhile avoidable accident cases could be drastically reduced by enforcing harsh/strict penalties by law. Although, un-avoidable accident situations are difficult to control, chances of fatalities or severe injuries can be reduced by notifying local police authorities, healthcare systems, traffic authorities, safety personnel in advance when there is a high probability of accidents so that they can make better decisions in avoiding the accidents or respond quickly in case of any accidents.  "
        },
        {
            "cell_type": "markdown",
            "metadata": {},
            "source": "## Target audience/ Benefits of this project:"
        },
        {
            "cell_type": "markdown",
            "metadata": {},
            "source": "The target audience of this project are **heathcare systems**, **local government**, **police/traffic departments**.\n\n\n\n"
        },
        {
            "cell_type": "markdown",
            "metadata": {},
            "source": "At the end of this project, we will develop a machine learning model based on several differrnt features which will predict the severity of the accident.\nThis model will aid stake holders to be proactive and take impactful decisions to reduce chances/severity of the accident. "
        },
        {
            "cell_type": "code",
            "execution_count": null,
            "metadata": {},
            "outputs": [],
            "source": ""
        }
    ],
    "metadata": {
        "kernelspec": {
            "display_name": "Python 3.6",
            "language": "python",
            "name": "python3"
        },
        "language_info": {
            "codemirror_mode": {
                "name": "ipython",
                "version": 3
            },
            "file_extension": ".py",
            "mimetype": "text/x-python",
            "name": "python",
            "nbconvert_exporter": "python",
            "pygments_lexer": "ipython3",
            "version": "3.6.9"
        }
    },
    "nbformat": 4,
    "nbformat_minor": 1
}